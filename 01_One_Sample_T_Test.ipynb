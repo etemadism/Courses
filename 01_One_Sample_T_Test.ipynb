{
  "nbformat": 4,
  "nbformat_minor": 0,
  "metadata": {
    "colab": {
      "provenance": [],
      "collapsed_sections": [
        "odtClYvst3qM",
        "EEYVr7syokyi",
        "LnIiJOj7qTho",
        "_RviNi2_EgN2",
        "lf22Aiy2ErV8",
        "ZXbxhVYAFy4r",
        "UTfvxQXtHQZn",
        "AbQ4o22_HcYr",
        "zFf_bjEUrlSo"
      ],
      "authorship_tag": "ABX9TyP1VUxi/QST8uUmyoc4Y9BQ",
      "include_colab_link": true
    },
    "kernelspec": {
      "name": "python3",
      "display_name": "Python 3"
    },
    "language_info": {
      "name": "python"
    }
  },
  "cells": [
    {
      "cell_type": "markdown",
      "metadata": {
        "id": "view-in-github",
        "colab_type": "text"
      },
      "source": [
        "<a href=\"https://colab.research.google.com/github/etemadism/Courses/blob/main/01_One_Sample_T_Test.ipynb\" target=\"_parent\"><img src=\"https://colab.research.google.com/assets/colab-badge.svg\" alt=\"Open In Colab\"/></a>"
      ]
    },
    {
      "cell_type": "markdown",
      "source": [
        "#One-Sample T-Test Analysis\n",
        "\n",
        "This Google Colab notebook, authored by **A. Etemadi**, is designed for a **Statistics class** and provides a comprehensive guide to performing a one-sample t-test in Python. The notebook is structured into two parts:\n",
        "\n",
        "1. **Simple Example**:\n",
        "   - In this section, we demonstrate the Python implementation of a one-sample t-test using a hypothetical dataset.  \n",
        "   - The known population mean is \\(50 \\, \\mu\\text{mol/min/mg}\\), representing the enzyme activity in healthy cells.  \n",
        "   - A sample of 20 experimental observations is analyzed step-by-step to determine whether the treatment leads to a statistically significant change in the average enzyme activity.\n",
        "\n",
        "2. **Real-World Example**:\n",
        "   - Here, we extend the analysis to a real dataset loaded from a CSV file. The dataset contains measurements across multiple columns, and we perform:\n",
        "     - **Normality tests** (Shapiro-Wilk or Kolmogorov-Smirnov, based on sample size) to ensure the assumptions of the t-test are met.\n",
        "     - One-sample t-tests for each column to determine if the sample means significantly differ from the specified population mean.  \n",
        "\n",
        "This hands-on approach helps students understand the mechanics of hypothesis testing, the importance of checking assumptions, and the interpretation of results. By the end of this notebook, students will gain practical experience with statistical hypothesis testing using Python."
      ],
      "metadata": {
        "id": "2V1TNWqHD3iT"
      }
    },
    {
      "cell_type": "markdown",
      "source": [
        "#Simple toturial"
      ],
      "metadata": {
        "id": "odtClYvst3qM"
      }
    },
    {
      "cell_type": "markdown",
      "source": [
        "###Normality check"
      ],
      "metadata": {
        "id": "EEYVr7syokyi"
      }
    },
    {
      "cell_type": "code",
      "source": [
        "from scipy.stats import shapiro\n",
        "stat, p_value = shapiro(sample_data)\n",
        "print(\"Shapiro-Wilk Test:\", \"Statistic =\", stat, \", p-value =\", p_value)\n",
        "# Interpretation\n",
        "if p_value > 0.05:\n",
        "  print(\"Data appears to be normally distributed (fail to reject H0)\")\n",
        "else: print(\"Data does not appear to be normally distributed (reject H0)\")"
      ],
      "metadata": {
        "colab": {
          "base_uri": "https://localhost:8080/"
        },
        "id": "zVbNHEUNopJO",
        "outputId": "d7ecbcbe-c40c-4780-9fac-951e956dac74"
      },
      "execution_count": 2,
      "outputs": [
        {
          "output_type": "stream",
          "name": "stdout",
          "text": [
            "Shapiro-Wilk Test: Statistic = 0.9616882117021169 , p-value = 0.5781019650776487\n",
            "Data appears to be normally distributed (fail to reject H0)\n"
          ]
        }
      ]
    },
    {
      "cell_type": "code",
      "source": [
        "from scipy.stats import kstest\n",
        "stat, p_value = kstest(sample_data, 'norm')\n",
        "print(\"Kolmogorov-Smirnov Test:\", \"Statistic =\", stat, \", p-value =\", p_value)\n",
        "\n",
        "# Interpretation\n",
        "if p_value > 0.05:\n",
        "  print(\"Data appears to be normally distributed (fail to reject H0)\")\n",
        "else: print(\"Data does not appear to be normally distributed (reject H0)\")"
      ],
      "metadata": {
        "colab": {
          "base_uri": "https://localhost:8080/"
        },
        "id": "SC-KgK-1pHY6",
        "outputId": "17b8dde7-eee0-425f-bcb5-fe68cc9af40b"
      },
      "execution_count": 4,
      "outputs": [
        {
          "output_type": "stream",
          "name": "stdout",
          "text": [
            "Kolmogorov-Smirnov Test: Statistic = 1.0 , p-value = 0.0\n",
            "Data does not appear to be normally distributed (reject H0)\n"
          ]
        }
      ]
    },
    {
      "cell_type": "markdown",
      "source": [
        "####box-plot and Q-Q plot"
      ],
      "metadata": {
        "id": "LnIiJOj7qTho"
      }
    },
    {
      "cell_type": "code",
      "source": [
        "import numpy as np\n",
        "import matplotlib.pyplot as plt\n",
        "import scipy.stats as stats\n",
        "\n",
        "# Sample data\n",
        "sample_data = np.array([52, 49, 51, 53, 47, 50, 54, 55, 48, 49,\n",
        "                        51, 53, 50, 52, 49, 47, 50, 52, 48, 49])\n",
        "\n",
        "# Create figure and axes\n",
        "fig, axes = plt.subplots(1, 2, figsize=(12, 6))\n",
        "\n",
        "# Q-Q plot\n",
        "stats.probplot(sample_data, dist=\"norm\", plot=axes[0])\n",
        "axes[0].set_title(\"Q-Q Plot\")\n",
        "\n",
        "# Histogram\n",
        "axes[1].hist(sample_data, bins=10, color='skyblue', edgecolor='black')\n",
        "axes[1].set_title(\"Histogram\")\n",
        "axes[1].set_xlabel(\"Value\")\n",
        "axes[1].set_ylabel(\"Frequency\")\n",
        "\n",
        "# Show plots\n",
        "plt.tight_layout()\n",
        "plt.show()\n"
      ],
      "metadata": {
        "colab": {
          "base_uri": "https://localhost:8080/",
          "height": 607
        },
        "id": "KpJFBwm0p6R3",
        "outputId": "9481f31e-e9e3-49b6-e266-4ffb6423f290"
      },
      "execution_count": 5,
      "outputs": [
        {
          "output_type": "display_data",
          "data": {
            "text/plain": [
              "<Figure size 1200x600 with 2 Axes>"
            ],
            "image/png": "[encoded data removed]"
          },
          "metadata": {}
        }
      ]
    },
    {
      "cell_type": "markdown",
      "source": [
        "##Step 1: Set Up the Data and Hypotheses"
      ],
      "metadata": {
        "id": "_RviNi2_EgN2"
      }
    },
    {
      "cell_type": "code",
      "source": [
        "import numpy as np\n",
        "from scipy import stats\n",
        "\n",
        "# Known population mean for enzyme activity (in µmol/min/mg)\n",
        "population_mean = 50\n",
        "\n",
        "# Sample data: enzyme activity levels after treatment (in µmol/min/mg)\n",
        "sample_data = np.array([52, 49, 51, 53, 47, 50, 54, 55, 48, 49,\n",
        "                        51, 53, 50, 52, 49, 47, 50, 52, 48, 49])"
      ],
      "metadata": {
        "id": "oDBPj9SxEjxP"
      },
      "execution_count": 1,
      "outputs": []
    },
    {
      "cell_type": "markdown",
      "source": [
        "##Step 2: Calculate the Sample Mean and Standard Deviation"
      ],
      "metadata": {
        "id": "lf22Aiy2ErV8"
      }
    },
    {
      "cell_type": "code",
      "source": [
        "\n",
        "# Calculate sample statistics\n",
        "sample_mean = np.mean(sample_data)\n",
        "sample_std = np.std(sample_data, ddof=1)\n",
        "\n",
        "print(f\"Sample Mean: {sample_mean}\")\n",
        "print(f\"Sample Standard Deviation: {sample_std}\")"
      ],
      "metadata": {
        "colab": {
          "base_uri": "https://localhost:8080/"
        },
        "id": "jGcqto9XEvYE",
        "outputId": "ca48608c-7f50-44a2-ea44-6d59b6793b2e"
      },
      "execution_count": 2,
      "outputs": [
        {
          "output_type": "stream",
          "name": "stdout",
          "text": [
            "Sample Mean: 50.45\n",
            "Sample Standard Deviation: 2.282081229238369\n"
          ]
        }
      ]
    },
    {
      "cell_type": "markdown",
      "source": [
        "##Step 3: Calculate the t-Statistic and p-value"
      ],
      "metadata": {
        "id": "ZXbxhVYAFy4r"
      }
    },
    {
      "cell_type": "code",
      "source": [
        "\n",
        "n = len(sample_data)\n",
        "\n",
        "# Perform One-Sample t-Test\n",
        "t_statistic, p_value = stats.ttest_1samp(sample_data, population_mean)\n",
        "\n"
      ],
      "metadata": {
        "id": "H3kV9twLGEuH"
      },
      "execution_count": 3,
      "outputs": []
    },
    {
      "cell_type": "markdown",
      "source": [
        "##Step 5: Interpret the Results"
      ],
      "metadata": {
        "id": "UTfvxQXtHQZn"
      }
    },
    {
      "cell_type": "code",
      "execution_count": 5,
      "metadata": {
        "colab": {
          "base_uri": "https://localhost:8080/"
        },
        "id": "KwKXEgof-T8S",
        "outputId": "d90313fa-ba72-41a9-bf83-e914c0b97984"
      },
      "outputs": [
        {
          "output_type": "stream",
          "name": "stdout",
          "text": [
            "Sample Mean: 50.45\n",
            "Sample Standard Deviation: 2.282081229238369\n",
            "T-Statistic: 0.8818534388547906\n",
            "P-Value: 0.3888764167256987\n",
            "Fail to reject the null hypothesis: No significant difference between the sample mean and the population mean.\n"
          ]
        }
      ],
      "source": [
        "\n",
        "# Interpretation\n",
        "alpha = 0.05\n",
        "print(f\"Sample Mean: {sample_mean}\")\n",
        "print(f\"Sample Standard Deviation: {sample_std}\")\n",
        "print(f\"T-Statistic: {t_statistic}\")\n",
        "print(f\"P-Value: {p_value}\")\n",
        "\n",
        "if p_value < alpha:\n",
        "    print(\"Reject the null hypothesis: The average enzyme activity level in the sample is significantly different from the population mean.\")\n",
        "else:\n",
        "    print(\"Fail to reject the null hypothesis: No significant difference between the sample mean and the population mean.\")\n"
      ]
    },
    {
      "cell_type": "markdown",
      "source": [
        "##Full Python Code for One-Sample t-Test\n"
      ],
      "metadata": {
        "id": "AbQ4o22_HcYr"
      }
    },
    {
      "cell_type": "code",
      "source": [
        "import numpy as np\n",
        "from scipy import stats\n",
        "\n",
        "# Known population mean for enzyme activity (in µmol/min/mg)\n",
        "population_mean = 50\n",
        "\n",
        "# Sample data: enzyme activity levels after treatment (in µmol/min/mg)\n",
        "sample_data = np.array([52, 49, 51, 53, 47, 50, 54, 55, 48, 49,\n",
        "                        51, 53, 50, 52, 49, 47, 50, 52, 48, 49])\n",
        "\n",
        "# Calculate sample statistics\n",
        "sample_mean = np.mean(sample_data)\n",
        "sample_std = np.std(sample_data, ddof=1)\n",
        "n = len(sample_data)\n",
        "\n",
        "# Calculate the t-statistic\n",
        "t_statistic = (sample_mean - population_mean) / (sample_std / np.sqrt(n))\n",
        "\n",
        "# Degrees of freedom\n",
        "df = n - 1\n",
        "\n",
        "# Calculate the p-value (two-tailed test)\n",
        "p_value = stats.t.sf(np.abs(t_statistic), df) * 2\n",
        "\n",
        "# Interpretation\n",
        "alpha = 0.05\n",
        "print(f\"Sample Mean: {sample_mean}\")\n",
        "print(f\"Sample Standard Deviation: {sample_std}\")\n",
        "print(f\"T-Statistic: {t_statistic}\")\n",
        "print(f\"P-Value: {p_value}\")\n",
        "\n",
        "if p_value < alpha:\n",
        "    print(\"Reject the null hypothesis: The average enzyme activity level in the sample is significantly different from the population mean.\")\n",
        "else:\n",
        "    print(\"Fail to reject the null hypothesis: No significant difference between the sample mean and the population mean.\")\n"
      ],
      "metadata": {
        "id": "7s6CabQDHeuL"
      },
      "execution_count": null,
      "outputs": []
    },
    {
      "cell_type": "markdown",
      "source": [
        "# Real example"
      ],
      "metadata": {
        "id": "zFf_bjEUrlSo"
      }
    },
    {
      "cell_type": "code",
      "source": [
        "import pandas as pd\n",
        "from scipy import stats\n",
        "\n",
        "# Load the CSV file\n",
        "url = 'https://drive.google.com/uc?id=1HYYvAncOfyWXFQrJd9YsKhObK59jaRd0'\n",
        "df = pd.read_csv(url)\n",
        "\n",
        "# Subset columns 1 to 4\n",
        "columns_to_test = df.iloc[:, 0:4]\n",
        "\n",
        "# Known population mean\n",
        "population_mean = 50\n",
        "\n",
        "# Loop over each column\n",
        "for col in columns_to_test.columns:\n",
        "    sample_data = columns_to_test[col].dropna()  # Drop NaN values\n",
        "    sample_size = len(sample_data)\n",
        "\n",
        "    print(f\"Column: {col}\")\n",
        "    print(f\"Sample size: {sample_size}\")\n",
        "\n",
        "    # Decide the normality test based on sample size\n",
        "    if sample_size < 50:\n",
        "        # Use Shapiro-Wilk Test\n",
        "        stat, p_value_normality = stats.shapiro(sample_data)\n",
        "        test_name = \"Shapiro-Wilk Test\"\n",
        "    else:\n",
        "        # Use Kolmogorov-Smirnov Test\n",
        "        stat, p_value_normality = stats.kstest(sample_data, 'norm', args=(sample_data.mean(), sample_data.std(ddof=1)))\n",
        "        test_name = \"Kolmogorov-Smirnov Test\"\n",
        "\n",
        "    print(f\"{test_name} for Normality: Statistic={stat:.4f}, P-value={p_value_normality:.4f}\")\n",
        "\n",
        "    if p_value_normality < 0.05:\n",
        "        print(\"The data does not follow a normal distribution (p < 0.05).\")\n",
        "    else:\n",
        "        print(\"The data appears to follow a normal distribution (p ≥ 0.05).\")\n",
        "\n",
        "    # Perform a one-sample t-test\n",
        "    t_statistic, p_value_ttest = stats.ttest_1samp(sample_data, population_mean)\n",
        "    print(f\"One-Sample T-Test: T-Statistic={t_statistic:.4f}, P-value={p_value_ttest:.4f}\")\n",
        "\n",
        "    # Interpretation\n",
        "    alpha = 0.05\n",
        "    if p_value_ttest < alpha:\n",
        "        print(\"Reject the null hypothesis: The sample mean is significantly different from the population mean.\")\n",
        "    else:\n",
        "        print(\"Fail to reject the null hypothesis: No significant difference between the sample mean and the population mean.\")\n",
        "    print(\"-\" * 50)\n"
      ],
      "metadata": {
        "colab": {
          "base_uri": "https://localhost:8080/"
        },
        "id": "g8sQCvSOsjH9",
        "outputId": "f15289bd-1fee-4b4e-82bd-0e80fde9477c"
      },
      "execution_count": 12,
      "outputs": [
        {
          "output_type": "stream",
          "name": "stdout",
          "text": [
            "Column: Age\n",
            "Sample size: 400\n",
            "Kolmogorov-Smirnov Test for Normality: Statistic=0.1815, P-value=0.0000\n",
            "The data does not follow a normal distribution (p < 0.05).\n",
            "One-Sample T-Test: T-Statistic=60.5123, P-value=0.0000\n",
            "Reject the null hypothesis: The sample mean is significantly different from the population mean.\n",
            "--------------------------------------------------\n",
            "Column: Gender\n",
            "Sample size: 400\n",
            "Kolmogorov-Smirnov Test for Normality: Statistic=0.3591, P-value=0.0000\n",
            "The data does not follow a normal distribution (p < 0.05).\n",
            "One-Sample T-Test: T-Statistic=-1983.7879, P-value=0.0000\n",
            "Reject the null hypothesis: The sample mean is significantly different from the population mean.\n",
            "--------------------------------------------------\n",
            "Column: DM\n",
            "Sample size: 400\n",
            "Kolmogorov-Smirnov Test for Normality: Statistic=0.4582, P-value=0.0000\n",
            "The data does not follow a normal distribution (p < 0.05).\n",
            "One-Sample T-Test: T-Statistic=-2237.4925, P-value=0.0000\n",
            "Reject the null hypothesis: The sample mean is significantly different from the population mean.\n",
            "--------------------------------------------------\n",
            "Column: BMI\n",
            "Sample size: 400\n",
            "Kolmogorov-Smirnov Test for Normality: Statistic=0.0542, P-value=0.1841\n",
            "The data appears to follow a normal distribution (p ≥ 0.05).\n",
            "One-Sample T-Test: T-Statistic=-93.2507, P-value=0.0000\n",
            "Reject the null hypothesis: The sample mean is significantly different from the population mean.\n",
            "--------------------------------------------------\n"
          ]
        }
      ]
    }
  ]
}