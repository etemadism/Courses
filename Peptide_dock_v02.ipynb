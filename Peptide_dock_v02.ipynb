{
  "nbformat": 4,
  "nbformat_minor": 0,
  "metadata": {
    "colab": {
      "provenance": [],
      "collapsed_sections": [
        "kVzn4Q0SXfGI",
        "59oYyTriXi9z",
        "Ie0Wi_9hXu5q",
        "KRyJoi9bbnU1",
        "Z0BUVMy_Rg_c",
        "RqsD_oWHjggn",
        "g4_lmQf4Ycy7",
        "dQwuK5tHYlFO",
        "0g2vhunHeBOA"
      ],
      "include_colab_link": true
    },
    "kernelspec": {
      "name": "python3",
      "display_name": "Python 3"
    },
    "language_info": {
      "name": "python"
    }
  },
  "cells": [
    {
      "cell_type": "markdown",
      "metadata": {
        "id": "view-in-github",
        "colab_type": "text"
      },
      "source": [
        "<a href=\"https://colab.research.google.com/github/etemadism/Courses/blob/main/Peptide_dock_v02.ipynb\" target=\"_parent\"><img src=\"https://colab.research.google.com/assets/colab-badge.svg\" alt=\"Open In Colab\"/></a>"
      ]
    },
    {
      "cell_type": "markdown",
      "source": [
        "**Peptide-Protein Docking and Interface Analysis (PyRosetta)**\n",
        "\n",
        "This Jupyter Notebook provides a complete, step-by-step computational workflow for predicting and analyzing the binding of a peptide to a protein target using the PyRosetta molecular modeling suite.\n",
        "\n",
        "The protocol covers:\n",
        "\n",
        "\n",
        "\n",
        "1.   Environment Setup: Installation and initialization of PyRosetta.\n",
        "2.   Peptide Docking: Running the FlexPepDock protocol to generate docked peptide structures (decoys).\n",
        "3.   Interface Analysis (Evaluation): Quantitatively assessing the resulting binding modes using the InterfaceAnalyzerMover to calculate critical binding metrics such as Rosetta binding energy (ΔG), Buried Surface Area (ΔSASA), and Interfacial H-bond energy.\n",
        "\n",
        "\n",
        "\n",
        "**Context**: Designed for educational use in a **Protein Engineering** course by **Ali Etemadi** (Etemadih.uw@gmail.com), Tehran University of Medical Sciences."
      ],
      "metadata": {
        "id": "vosZMQ8IBm-6"
      }
    },
    {
      "cell_type": "markdown",
      "source": [
        "##Step 1: Install the PyRosetta installer"
      ],
      "metadata": {
        "id": "kVzn4Q0SXfGI"
      }
    },
    {
      "cell_type": "code",
      "execution_count": null,
      "metadata": {
        "colab": {
          "base_uri": "https://localhost:8080/"
        },
        "id": "8efDqTRUWGAA",
        "outputId": "92e15fc8-5b93-41b6-fe74-1502f1ddb715"
      },
      "outputs": [
        {
          "output_type": "stream",
          "name": "stdout",
          "text": [
            "Collecting pyrosetta-installer\n",
            "  Downloading pyrosetta_installer-0.1.2-py3-none-any.whl.metadata (1.6 kB)\n",
            "Downloading pyrosetta_installer-0.1.2-py3-none-any.whl (3.9 kB)\n",
            "Installing collected packages: pyrosetta-installer\n",
            "Successfully installed pyrosetta-installer-0.1.2\n",
            "Reading package lists... Done\n",
            "Building dependency tree... Done\n",
            "Reading state information... Done\n",
            "build-essential is already the newest version (12.9ubuntu3).\n",
            "tar is already the newest version (1.34+dfsg-1ubuntu0.1.22.04.2).\n",
            "wget is already the newest version (1.21.2-2ubuntu1.1).\n",
            "0 upgraded, 0 newly installed, 0 to remove and 38 not upgraded.\n"
          ]
        }
      ],
      "source": [
        "!pip install pyrosetta-installer\n",
        "# Install necessary tools\n",
        "!apt-get install -y wget tar build-essential"
      ]
    },
    {
      "cell_type": "markdown",
      "source": [
        "##Step 2: Use the installer to download & install PyRosetta"
      ],
      "metadata": {
        "id": "59oYyTriXi9z"
      }
    },
    {
      "cell_type": "code",
      "source": [
        "import pyrosetta_installer\n",
        "\n",
        "# This will download the appropriate PyRosetta wheel and install it\n",
        "pyrosetta_installer.install_pyrosetta()\n"
      ],
      "metadata": {
        "colab": {
          "base_uri": "https://localhost:8080/"
        },
        "id": "AnVG74RvXMpy",
        "outputId": "41f9b00d-ecd9-48a2-83eb-354c8ecbc396"
      },
      "execution_count": null,
      "outputs": [
        {
          "metadata": {
            "tags": null
          },
          "name": "stdout",
          "output_type": "stream",
          "text": [
            "Installing PyRosetta:\n",
            " os: ubuntu\n",
            " type: Release\n",
            " Rosetta C++ extras: \n",
            " mirror: https://west.rosettacommons.org/pyrosetta/release/release\n",
            " extra packages: numpy\n",
            "\n",
            "PyRosetta wheel url: https://:@west.rosettacommons.org/pyrosetta/release/release/PyRosetta4.Release.python312.ubuntu.wheel/pyrosetta-2025.41+release.de3cc17d50-cp312-cp312-linux_x86_64.whl\n"
          ]
        }
      ]
    },
    {
      "cell_type": "markdown",
      "source": [
        "##Step 3: Import PyRosetta and initialize"
      ],
      "metadata": {
        "id": "Ie0Wi_9hXu5q"
      }
    },
    {
      "cell_type": "code",
      "source": [
        "import pyrosetta\n",
        "from pyrosetta import rosetta\n",
        "\n",
        "pyrosetta.init(options=\"-mute all -ignore_unrecognized_res\")\n"
      ],
      "metadata": {
        "colab": {
          "base_uri": "https://localhost:8080/"
        },
        "id": "usKkJXY8Xyhe",
        "outputId": "31ffa001-c009-4292-9e27-9660efee9a56"
      },
      "execution_count": null,
      "outputs": [
        {
          "output_type": "stream",
          "name": "stdout",
          "text": [
            "┌───────────────────────────────────────────────────────────────────────────────┐\n",
            "│                                  PyRosetta-4                                  │\n",
            "│               Created in JHU by Sergey Lyskov and PyRosetta Team              │\n",
            "│               (C) Copyright Rosetta Commons Member Institutions               │\n",
            "│                                                                               │\n",
            "│ NOTE: USE OF PyRosetta FOR COMMERCIAL PURPOSES REQUIRES PURCHASE OF A LICENSE │\n",
            "│          See LICENSE.PyRosetta.md or email license@uw.edu for details         │\n",
            "└───────────────────────────────────────────────────────────────────────────────┘\n",
            "PyRosetta-4 2025 [Rosetta PyRosetta4.Release.python312.ubuntu 2025.41+release.de3cc17d509259e29147a2ed8f2a726d644e7e34 2025-10-06T16:25:46] retrieved from: http://www.pyrosetta.org\n"
          ]
        }
      ]
    },
    {
      "cell_type": "markdown",
      "source": [
        "## Step 4: Create directories"
      ],
      "metadata": {
        "id": "KRyJoi9bbnU1"
      }
    },
    {
      "cell_type": "code",
      "source": [
        "import os\n",
        "import glob\n",
        "\n",
        "# Create directories\n",
        "os.makedirs(\"step_1_peptiderive/input\", exist_ok=True)\n",
        "os.makedirs(\"step_1_peptiderive/output\", exist_ok=True)\n",
        "os.makedirs(\"step_2_flexpepdock/without_server/output_files\", exist_ok=True)"
      ],
      "metadata": {
        "id": "bK5ArY9fblnd"
      },
      "execution_count": null,
      "outputs": []
    },
    {
      "cell_type": "markdown",
      "source": [],
      "metadata": {
        "id": "etr6H39eMl2G"
      }
    },
    {
      "cell_type": "markdown",
      "source": [
        "## Step 5: Flexpepdock"
      ],
      "metadata": {
        "id": "Z0BUVMy_Rg_c"
      }
    },
    {
      "cell_type": "markdown",
      "source": [
        "Latest version"
      ],
      "metadata": {
        "id": "bqpG7WBdnLI5"
      }
    },
    {
      "cell_type": "code",
      "source": [
        "import os\n",
        "from pyrosetta import init, pose_from_pdb, create_score_function, dump_pdb\n",
        "from pyrosetta.rosetta.protocols.flexpep_docking import FlexPepDockingProtocol\n",
        "from pyrosetta.rosetta.core.scoring import ScoreFunctionFactory\n",
        "\n",
        "# --- Configuration ---\n",
        "pdb_file_path = \"/content/step_1_peptiderive/input/no_interface.pdb\"\n",
        "output_dir = \"/content/step_2_flexpepdock/results/abinitio\"\n",
        "os.makedirs(output_dir, exist_ok=True)\n",
        "\n",
        "scorefile_path = os.path.join(output_dir, \"flexpepdock_scores.sc\")\n",
        "num_decoys = 2\n",
        "\n",
        "# --- Initialize PyRosetta ---\n",
        "init(\"-mute all -ignore_unrecognized_res -ex1 -ex2 -use_input_sc -flexPepDocking:lowres_abinitio -out:file:scorefile -out:pdb\")\n",
        "\n",
        "# Load Pose\n",
        "pose = pose_from_pdb(pdb_file_path)\n",
        "print(f\"✅ Loaded complex pose with {pose.num_chains()} chains.\")\n",
        "\n",
        "# Initialize Protocol\n",
        "protocol = FlexPepDockingProtocol()\n",
        "\n",
        "# Prepare scoring function\n",
        "scorefxn = ScoreFunctionFactory.create_score_function(\"ref2015\")\n",
        "\n",
        "# Run docking for multiple decoys\n",
        "with open(scorefile_path, \"w\") as f:\n",
        "    f.write(\"description\\tscore\\n\")  # header line\n",
        "\n",
        "    for i in range(num_decoys):\n",
        "        test_pose = pose.clone()\n",
        "        print(f\"⚙️ Running docking decoy {i+1}/{num_decoys}...\")\n",
        "        protocol.apply(test_pose)\n",
        "\n",
        "        # Score and save\n",
        "        score = scorefxn(test_pose)\n",
        "        pdb_out = os.path.join(output_dir, f\"docked_{i+1}_abinitio.pdb\")\n",
        "        test_pose.dump_pdb(pdb_out)\n",
        "        f.write(f\"docked_{i+1}\\t{score:.3f}\\n\")\n",
        "        print(f\"✅ Decoy {i+1} done (score: {score:.3f})\")\n",
        "\n",
        "print(\"\\n✅ All decoys complete.\")\n",
        "print(f\"Results saved to: {output_dir}\")\n"
      ],
      "metadata": {
        "id": "tJPrJclFjGXu",
        "outputId": "5eccd898-503f-495f-f612-833dda462ff8",
        "colab": {
          "base_uri": "https://localhost:8080/"
        }
      },
      "execution_count": null,
      "outputs": [
        {
          "output_type": "stream",
          "name": "stdout",
          "text": [
            "┌───────────────────────────────────────────────────────────────────────────────┐\n",
            "│                                  PyRosetta-4                                  │\n",
            "│               Created in JHU by Sergey Lyskov and PyRosetta Team              │\n",
            "│               (C) Copyright Rosetta Commons Member Institutions               │\n",
            "│                                                                               │\n",
            "│ NOTE: USE OF PyRosetta FOR COMMERCIAL PURPOSES REQUIRES PURCHASE OF A LICENSE │\n",
            "│          See LICENSE.PyRosetta.md or email license@uw.edu for details         │\n",
            "└───────────────────────────────────────────────────────────────────────────────┘\n",
            "PyRosetta-4 2025 [Rosetta PyRosetta4.Release.python312.ubuntu 2025.41+release.de3cc17d509259e29147a2ed8f2a726d644e7e34 2025-10-06T16:25:46] retrieved from: http://www.pyrosetta.org\n",
            "✅ Loaded complex pose with 2 chains.\n",
            "⚙️ Running docking decoy 1/2...\n",
            "✅ Decoy 1 done (score: -433.345)\n",
            "⚙️ Running docking decoy 2/2...\n",
            "✅ Decoy 2 done (score: -415.585)\n",
            "\n",
            "✅ All decoys complete.\n",
            "Results saved to: /content/step_2_flexpepdock/results/abinitio\n"
          ]
        }
      ]
    },
    {
      "cell_type": "code",
      "source": [
        "import os\n",
        "from pyrosetta import init, pose_from_pdb, create_score_function, dump_pdb\n",
        "from pyrosetta.rosetta.protocols.flexpep_docking import FlexPepDockingProtocol\n",
        "from pyrosetta.rosetta.core.scoring import ScoreFunctionFactory\n",
        "\n",
        "# --- Configuration ---\n",
        "pdb_file_path = \"/content/step_1_peptiderive/input/no_interface.pdb\"\n",
        "output_dir = \"/content/step_2_flexpepdock/results/flexpepdock\"\n",
        "os.makedirs(output_dir, exist_ok=True)\n",
        "\n",
        "scorefile_path = os.path.join(output_dir, \"flexpepdock_scores.sc\")\n",
        "num_decoys = 2\n",
        "\n",
        "# --- Initialize PyRosetta ---\n",
        "init(\"-mute all -ignore_unrecognized_res -ex1 -ex2 -use_input_sc -flexPepDocking -out:file:scorefile -out:pdb\")\n",
        "\n",
        "# Load Pose\n",
        "pose = pose_from_pdb(pdb_file_path)\n",
        "print(f\"✅ Loaded complex pose with {pose.num_chains()} chains.\")\n",
        "\n",
        "# Initialize Protocol\n",
        "protocol = FlexPepDockingProtocol()\n",
        "\n",
        "# Prepare scoring function\n",
        "scorefxn = ScoreFunctionFactory.create_score_function(\"ref2015\")\n",
        "\n",
        "# Run docking for multiple decoys\n",
        "with open(scorefile_path, \"w\") as f:\n",
        "    f.write(\"description\\tscore\\n\")  # header line\n",
        "\n",
        "    for i in range(num_decoys):\n",
        "        test_pose = pose.clone()\n",
        "        print(f\"⚙️ Running docking decoy {i+1}/{num_decoys}...\")\n",
        "        protocol.apply(test_pose)\n",
        "\n",
        "        # Score and save\n",
        "        score = scorefxn(test_pose)\n",
        "        pdb_out = os.path.join(output_dir, f\"docked_{i+1}_flexpepdock.pdb\")\n",
        "        test_pose.dump_pdb(pdb_out)\n",
        "        f.write(f\"docked_{i+1}\\t{score:.3f}\\n\")\n",
        "        print(f\"✅ Decoy {i+1} done (score: {score:.3f})\")\n",
        "\n",
        "print(\"\\n✅ All decoys complete.\")\n",
        "print(f\"Results saved to: {output_dir}\")\n"
      ],
      "metadata": {
        "id": "6xa8hv7-jqkz",
        "outputId": "6b82bb94-5fcc-4063-c951-8e099316f8a6",
        "colab": {
          "base_uri": "https://localhost:8080/"
        }
      },
      "execution_count": null,
      "outputs": [
        {
          "output_type": "stream",
          "name": "stdout",
          "text": [
            "┌───────────────────────────────────────────────────────────────────────────────┐\n",
            "│                                  PyRosetta-4                                  │\n",
            "│               Created in JHU by Sergey Lyskov and PyRosetta Team              │\n",
            "│               (C) Copyright Rosetta Commons Member Institutions               │\n",
            "│                                                                               │\n",
            "│ NOTE: USE OF PyRosetta FOR COMMERCIAL PURPOSES REQUIRES PURCHASE OF A LICENSE │\n",
            "│          See LICENSE.PyRosetta.md or email license@uw.edu for details         │\n",
            "└───────────────────────────────────────────────────────────────────────────────┘\n",
            "PyRosetta-4 2025 [Rosetta PyRosetta4.Release.python312.ubuntu 2025.41+release.de3cc17d509259e29147a2ed8f2a726d644e7e34 2025-10-06T16:25:46] retrieved from: http://www.pyrosetta.org\n",
            "✅ Loaded complex pose with 2 chains.\n",
            "⚙️ Running docking decoy 1/2...\n",
            "✅ Decoy 1 done (score: -410.158)\n",
            "⚙️ Running docking decoy 2/2...\n",
            "✅ Decoy 2 done (score: -410.158)\n",
            "\n",
            "✅ All decoys complete.\n",
            "Results saved to: /content/step_2_flexpepdock/results/flexpepdock\n"
          ]
        }
      ]
    },
    {
      "cell_type": "markdown",
      "source": [
        "## Step 6: Interface Analysis"
      ],
      "metadata": {
        "id": "RqsD_oWHjggn"
      }
    },
    {
      "cell_type": "code",
      "source": [
        "!mkdir step_3_interface_analysis\n",
        "!cp /content/step_2_flexpepdock/results/abinitio/*pdb step_3_interface_analysis/\n",
        "!cp /content/step_2_flexpepdock/results/flexpepdock/*pdb step_3_interface_analysis/"
      ],
      "metadata": {
        "id": "oQzZ4H_H1t7p"
      },
      "execution_count": null,
      "outputs": []
    },
    {
      "cell_type": "code",
      "source": [
        "\n",
        "import os\n",
        "import glob\n",
        "from pyrosetta import init, pose_from_pdb\n",
        "from pyrosetta.rosetta.core.scoring import ScoreFunctionFactory\n",
        "from pyrosetta.rosetta.protocols.analysis import InterfaceAnalyzerMover\n",
        "# Removed: from pyrosetta.rosetta.utility import ex_is_file\n",
        "# Using os.path.isfile() instead to avoid NameError\n",
        "\n",
        "# --- Configuration ---\n",
        "INPUT_DIR = \"/content/step_3_interface_analysis\"\n",
        "OUTPUT_FILE = \"interface_analysis_summary.csv\"\n",
        "\n",
        "# --- Initialize PyRosetta ---\n",
        "# Initialize with necessary flags (same as the previous script for consistency)\n",
        "init(\"-mute all -ignore_unrecognized_res -ex1 -ex2 -use_input_sc\")\n",
        "\n",
        "# Prepare scoring function (ref2015 is standard for interface analysis)\n",
        "scorefxn = ScoreFunctionFactory.create_score_function(\"ref2015\")\n",
        "\n",
        "# Initialize InterfaceAnalyzerMover\n",
        "# We initialize this once outside the loop for efficiency\n",
        "# Jump ID = 1 (Standard for a two-chain protein-peptide complex in Rosetta)\n",
        "interface_analyzer = InterfaceAnalyzerMover(\n",
        "    1,       # interface jump number\n",
        "    False,   # tracer (False to print to stdout/file)\n",
        "    scorefxn, # Use the ref2015 score function\n",
        "    False,   # compute_packstat (optional, can be True)\n",
        "    True,    # pack_input (Repack the complex interface before scoring)\n",
        "    True     # pack_separated (Repack separated monomers before scoring)\n",
        ")\n",
        "\n",
        "print(f\"🔬 Starting batch interface analysis on PDB files in: {INPUT_DIR}\")\n",
        "print(f\"📝 Results will be saved to: {OUTPUT_FILE}\\n\")\n",
        "\n",
        "# Check if the input directory exists\n",
        "if not os.path.isdir(INPUT_DIR):\n",
        "    print(f\"❌ Error: Input directory not found: {INPUT_DIR}\")\n",
        "    exit()\n",
        "\n",
        "# Find all PDB files\n",
        "pdb_files = glob.glob(os.path.join(INPUT_DIR, \"*.pdb\"))\n",
        "\n",
        "if not pdb_files:\n",
        "    print(f\"⚠️ Warning: No PDB files found in {INPUT_DIR}. Exiting.\")\n",
        "    exit()\n",
        "\n",
        "# --- Analysis Loop and Reporting ---\n",
        "results = []\n",
        "header = [\"PDB_Name\", \"Interface_dG_RU\", \"Buried_SASA_A2\", \"Hbond_Energy_RU\", \"Num_Interface_Residues\"]\n",
        "results.append(\",\".join(header))\n",
        "\n",
        "for pdb_path in pdb_files:\n",
        "    pdb_name = os.path.basename(pdb_path)\n",
        "\n",
        "    try:\n",
        "        # Load Pose\n",
        "        # CHANGED: Using standard Python os.path.isfile() instead of PyRosetta's ex_is_file\n",
        "        if not os.path.isfile(pdb_path):\n",
        "             print(f\"❌ Could not load {pdb_name}: File check failed (file not found).\")\n",
        "             continue\n",
        "\n",
        "        pose = pose_from_pdb(pdb_path)\n",
        "        print(f\"⚙️ Analyzing {pdb_name}...\")\n",
        "\n",
        "        # 2. Apply the mover to the pose\n",
        "        interface_analyzer.apply(pose)\n",
        "\n",
        "        # 3. Extract Metrics\n",
        "        interface_dG = interface_analyzer.get_interface_dG()\n",
        "        delta_sasa = interface_analyzer.get_interface_delta_sasa()\n",
        "        total_Hbond_E = interface_analyzer.get_total_Hbond_E()\n",
        "        num_res_interface = interface_analyzer.get_num_interface_residues()\n",
        "\n",
        "        # --- Print to Console (Integer Output) ---\n",
        "        print(\"=========================================\")\n",
        "        print(f\"Interface Analysis Results for {pdb_name}:\")\n",
        "        print(\"=========================================\")\n",
        "        # Casting all float metrics to int for console output, as requested\n",
        "        print(f\"Rosetta Interface dG (ref2015): \\t{int(interface_dG)} R.U.\")\n",
        "        print(f\"Buried Surface Area (dSASA): \\t{int(delta_sasa)} A^2\")\n",
        "        print(f\"Interface H-bond Energy: \\t\\t{int(total_Hbond_E)} R.U.\")\n",
        "        print(f\"Number of Interface Residues: \\t{num_res_interface}\")\n",
        "        print(\"=========================================\\n\")\n",
        "\n",
        "        # --- Collect results for CSV (Using float precision for storage) ---\n",
        "        row = [\n",
        "            pdb_name,\n",
        "            f\"{interface_dG:.3f}\",\n",
        "            f\"{delta_sasa:.3f}\",\n",
        "            f\"{total_Hbond_E:.3f}\",\n",
        "            str(num_res_interface)\n",
        "        ]\n",
        "        results.append(\",\".join(row))\n",
        "\n",
        "    except Exception as e:\n",
        "        print(f\"❌ Failed to process {pdb_name}. Error: {e}\\n\")\n",
        "\n",
        "# --- Write final summary file ---\n",
        "with open(OUTPUT_FILE, \"w\") as f:\n",
        "    f.write(\"\\n\".join(results))\n",
        "\n",
        "print(f\"✅ Batch analysis complete! Summary saved to {OUTPUT_FILE}\")\n"
      ],
      "metadata": {
        "colab": {
          "base_uri": "https://localhost:8080/"
        },
        "id": "xnUdpcai3cIj",
        "outputId": "415a2c6e-1a03-427b-850a-ba786a051c34"
      },
      "execution_count": null,
      "outputs": [
        {
          "output_type": "stream",
          "name": "stdout",
          "text": [
            "┌───────────────────────────────────────────────────────────────────────────────┐\n",
            "│                                  PyRosetta-4                                  │\n",
            "│               Created in JHU by Sergey Lyskov and PyRosetta Team              │\n",
            "│               (C) Copyright Rosetta Commons Member Institutions               │\n",
            "│                                                                               │\n",
            "│ NOTE: USE OF PyRosetta FOR COMMERCIAL PURPOSES REQUIRES PURCHASE OF A LICENSE │\n",
            "│          See LICENSE.PyRosetta.md or email license@uw.edu for details         │\n",
            "└───────────────────────────────────────────────────────────────────────────────┘\n",
            "PyRosetta-4 2025 [Rosetta PyRosetta4.Release.python312.ubuntu 2025.41+release.de3cc17d509259e29147a2ed8f2a726d644e7e34 2025-10-06T16:25:46] retrieved from: http://www.pyrosetta.org\n",
            "🔬 Starting batch interface analysis on PDB files in: /content/step_3_interface_analysis\n",
            "📝 Results will be saved to: interface_analysis_summary.csv\n",
            "\n",
            "⚙️ Analyzing docked_2_flexpepdock.pdb...\n",
            "=========================================\n",
            "Interface Analysis Results for docked_2_flexpepdock.pdb:\n",
            "=========================================\n",
            "Rosetta Interface dG (ref2015): \t0 R.U.\n",
            "Buried Surface Area (dSASA): \t0 A^2\n",
            "Interface H-bond Energy: \t\t0 R.U.\n",
            "Number of Interface Residues: \t3\n",
            "=========================================\n",
            "\n",
            "⚙️ Analyzing docked_1_flexpepdock.pdb...\n",
            "=========================================\n",
            "Interface Analysis Results for docked_1_flexpepdock.pdb:\n",
            "=========================================\n",
            "Rosetta Interface dG (ref2015): \t0 R.U.\n",
            "Buried Surface Area (dSASA): \t0 A^2\n",
            "Interface H-bond Energy: \t\t0 R.U.\n",
            "Number of Interface Residues: \t3\n",
            "=========================================\n",
            "\n",
            "⚙️ Analyzing docked_2_abinitio.pdb...\n",
            "=========================================\n",
            "Interface Analysis Results for docked_2_abinitio.pdb:\n",
            "=========================================\n",
            "Rosetta Interface dG (ref2015): \t-12 R.U.\n",
            "Buried Surface Area (dSASA): \t885 A^2\n",
            "Interface H-bond Energy: \t\t0 R.U.\n",
            "Number of Interface Residues: \t35\n",
            "=========================================\n",
            "\n",
            "⚙️ Analyzing docked_1_abinitio.pdb...\n",
            "=========================================\n",
            "Interface Analysis Results for docked_1_abinitio.pdb:\n",
            "=========================================\n",
            "Rosetta Interface dG (ref2015): \t-12 R.U.\n",
            "Buried Surface Area (dSASA): \t854 A^2\n",
            "Interface H-bond Energy: \t\t-4 R.U.\n",
            "Number of Interface Residues: \t34\n",
            "=========================================\n",
            "\n",
            "✅ Batch analysis complete! Summary saved to interface_analysis_summary.csv\n"
          ]
        }
      ]
    },
    {
      "cell_type": "code",
      "source": [
        "from pyrosetta import *\n",
        "from pyrosetta.rosetta import *\n",
        "import urllib.request\n",
        "import os\n",
        "import shutil\n",
        "\n",
        "# -------------------------------\n",
        "# Get user input for PDB ID and chains\n",
        "# -------------------------------\n",
        "pdb_id = input(\"Please enter the PDB ID (e.g., 1nvu): \")\n",
        "chains_input = input(\"Please enter the chain letters to keep, separated by commas (e.g., R,S): \")\n",
        "\n",
        "# Convert the input string of chains into a list\n",
        "chains_to_keep = [chain.strip() for chain in chains_input.split(',')]\n",
        "\n",
        "# Define the destination path for the input files\n",
        "destination_path = \"step_1_peptiderive/input/\"\n",
        "os.makedirs(destination_path, exist_ok=True) # Ensure the directory exists\n",
        "\n",
        "# -------------------------------\n",
        "# Download and load structure\n",
        "# -------------------------------\n",
        "pdb_file = f\"{pdb_id}.pdb\"\n",
        "urllib.request.urlretrieve(f\"https://files.rcsb.org/download/{pdb_id}.pdb\", pdb_file)\n",
        "print(f\"✅ Downloaded {pdb_id}.pdb\")\n",
        "\n",
        "# Copy the original downloaded PDB to the input directory\n",
        "original_pdb_filepath = os.path.join(destination_path, pdb_file)\n",
        "shutil.copy(pdb_file, original_pdb_filepath)\n",
        "print(f\"✅ Copied original PDB to {original_pdb_filepath}\")\n",
        "\n",
        "\n",
        "# -------------------------------\n",
        "# Initialize PyRosetta, ignoring unrecognized residues\n",
        "# -------------------------------\n",
        "init(options=\"-ignore_unrecognized_res true\")\n",
        "\n",
        "pose = pose_from_pdb(pdb_file)\n",
        "pose_clean = core.pose.Pose()\n",
        "\n",
        "# -------------------------------\n",
        "# Extract and combine desired chains\n",
        "# -------------------------------\n",
        "for chain_letter in chains_to_keep:\n",
        "    chain_id = -1\n",
        "    for i in range(1, pose.num_chains() + 1):\n",
        "        if pose.pdb_info().chain(pose.chain_begin(i)) == chain_letter:\n",
        "            chain_id = i\n",
        "            break\n",
        "\n",
        "    if chain_id != -1:\n",
        "        chain_pose = core.pose.Pose()\n",
        "        core.pose.append_subpose_to_pose(chain_pose, pose, pose.chain_begin(chain_id), pose.chain_end(chain_id))\n",
        "\n",
        "        if pose_clean.total_residue() == 0:\n",
        "            pose_clean = chain_pose\n",
        "        else:\n",
        "            core.pose.append_pose_to_pose(pose_clean, chain_pose, new_chain=True)\n",
        "    else:\n",
        "        print(f\"❗Warning: Chain {chain_letter} not found in the PDB.\")\n",
        "\n",
        "\n",
        "# -------------------------------\n",
        "# Remove non-protein residues from the combined pose\n",
        "# -------------------------------\n",
        "# This will remove the GTP and any other non-protein residues\n",
        "if pose_clean.total_residue() > 0:\n",
        "  core.pose.remove_nonprotein_residues(pose_clean)\n",
        "else:\n",
        "  print(\"❗Warning: No protein chains were kept, cannot remove non-protein residues.\")\n",
        "\n",
        "\n",
        "# -------------------------------\n",
        "# Save cleaned complex directly to the destination path\n",
        "# -------------------------------\n",
        "if pose_clean.total_residue() > 0:\n",
        "    clean_pdb_filename = f\"{pdb_id}_{'_'.join(chains_to_keep)}_clean.pdb\"\n",
        "    clean_pdb_filepath = os.path.join(destination_path, clean_pdb_filename)\n",
        "    pose_clean.dump_pdb(clean_pdb_filepath)\n",
        "    print(f\"✅ Clean complex saved as {clean_pdb_filepath}\")\n",
        "else:\n",
        "    print(\"❗Warning: No pose was created, skipping save step.\")"
      ],
      "metadata": {
        "colab": {
          "base_uri": "https://localhost:8080/"
        },
        "id": "wT0au4wLN3oJ",
        "outputId": "1509b5d4-6c93-4ef2-8b9f-01438b7953d7"
      },
      "execution_count": null,
      "outputs": [
        {
          "output_type": "stream",
          "name": "stdout",
          "text": [
            "Please enter the PDB ID (e.g., 1nvu): 1nvu\n",
            "Please enter the chain letters to keep, separated by commas (e.g., R,S): R,S\n",
            "✅ Downloaded 1nvu.pdb\n",
            "✅ Copied original PDB to step_1_peptiderive/input/1nvu.pdb\n",
            "┌───────────────────────────────────────────────────────────────────────────────┐\n",
            "│                                  PyRosetta-4                                  │\n",
            "│               Created in JHU by Sergey Lyskov and PyRosetta Team              │\n",
            "│               (C) Copyright Rosetta Commons Member Institutions               │\n",
            "│                                                                               │\n",
            "│ NOTE: USE OF PyRosetta FOR COMMERCIAL PURPOSES REQUIRES PURCHASE OF A LICENSE │\n",
            "│          See LICENSE.PyRosetta.md or email license@uw.edu for details         │\n",
            "└───────────────────────────────────────────────────────────────────────────────┘\n",
            "PyRosetta-4 2025 [Rosetta PyRosetta4.Release.python312.ubuntu 2025.41+release.de3cc17d509259e29147a2ed8f2a726d644e7e34 2025-10-06T16:25:46] retrieved from: http://www.pyrosetta.org\n",
            "✅ Clean complex saved as step_1_peptiderive/input/1nvu_R_S_clean.pdb\n"
          ]
        }
      ]
    }
  ]
}