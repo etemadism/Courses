{
  "nbformat": 4,
  "nbformat_minor": 0,
  "metadata": {
    "colab": {
      "provenance": [],
      "collapsed_sections": [
        "7wVOziG7ms0f",
        "xSLArzOom2u7"
      ],
      "authorship_tag": "ABX9TyOo2S4j8qjA6GlVHSvfCeWu",
      "include_colab_link": true
    },
    "kernelspec": {
      "name": "python3",
      "display_name": "Python 3"
    },
    "language_info": {
      "name": "python"
    }
  },
  "cells": [
    {
      "cell_type": "markdown",
      "metadata": {
        "id": "view-in-github",
        "colab_type": "text"
      },
      "source": [
        "<a href=\"https://colab.research.google.com/github/etemadism/Courses/blob/main/simple_alignment.ipynb\" target=\"_parent\"><img src=\"https://colab.research.google.com/assets/colab-badge.svg\" alt=\"Open In Colab\"/></a>"
      ]
    },
    {
      "cell_type": "markdown",
      "source": [
        "**Note:**\n",
        "\n",
        "This is just a simple code to perform pairwise alignment using BLAST+ software package. It is intended for use in a Bioinformatics class during the pairwise alignment session.\n",
        "It will be updated each session.\n",
        "\n",
        "**A. Etemadi**\n",
        "\n",
        "Tehran University of Medical Sciences"
      ],
      "metadata": {
        "id": "qnGx9fMW-rA7"
      }
    },
    {
      "cell_type": "markdown",
      "source": [
        "#Step 1: Install BLAST+ software package"
      ],
      "metadata": {
        "id": "7wVOziG7ms0f"
      }
    },
    {
      "cell_type": "code",
      "source": [
        "import os\n",
        "\n",
        "# Download the BLAST+ software package\n",
        "os.system('wget https://ftp.ncbi.nlm.nih.gov/blast/executables/blast+/LATEST/ncbi-blast-2.15.0+-x64-linux.tar.gz')\n",
        "\n",
        "# Extract the downloaded tar.gz file\n",
        "os.system('tar xvzf /content/ncbi-blast-2.15.0+-x64-linux.tar.gz')\n"
      ],
      "metadata": {
        "colab": {
          "base_uri": "https://localhost:8080/"
        },
        "id": "3QG68Q1HA6vY",
        "outputId": "c267d2ef-3601-4800-dc0a-23673c45a815"
      },
      "execution_count": 1,
      "outputs": [
        {
          "output_type": "execute_result",
          "data": {
            "text/plain": [
              "0"
            ]
          },
          "metadata": {},
          "execution_count": 1
        }
      ]
    },
    {
      "cell_type": "code",
      "source": [
        "# Test if BLAST+ is installed by checking the help message of the blastn executable\n",
        "os.system('/content/ncbi-blast-2.15.0+/bin/blastn -h')"
      ],
      "metadata": {
        "colab": {
          "base_uri": "https://localhost:8080/"
        },
        "id": "SGHFrXUUPOPf",
        "outputId": "fc7ea4d6-f215-4c9c-f149-ace1e285759c"
      },
      "execution_count": 2,
      "outputs": [
        {
          "output_type": "execute_result",
          "data": {
            "text/plain": [
              "0"
            ]
          },
          "metadata": {},
          "execution_count": 2
        }
      ]
    },
    {
      "cell_type": "markdown",
      "source": [
        "#Step 2: Install Entrez Direct (EDirect)"
      ],
      "metadata": {
        "id": "xSLArzOom2u7"
      }
    },
    {
      "cell_type": "markdown",
      "source": [
        "Entrez Direct (EDirect) provides access to the NCBI's suite of interconnected databases (publication, sequence, structure, gene, variation, expression, etc.) from a Unix terminal window. Search terms are entered as command-line arguments. Individual operations are connected with Unix pipes to construct multi-step queries. Selected records can then be retrieved in a variety of formats."
      ],
      "metadata": {
        "id": "5biB382RiIhb"
      }
    },
    {
      "cell_type": "code",
      "source": [
        "###You can find more info here: https://www.ncbi.nlm.nih.gov/books/NBK179288/\n",
        "import os\n",
        "\n",
        "# Install Entrez Direct\n",
        "os.system('sh -c \"$(curl -fsSL https://ftp.ncbi.nlm.nih.gov/entrez/entrezdirect/install-edirect.sh)\"')\n",
        "\n",
        "# Set PATH for the current session\n",
        "os.environ['PATH'] = f\"{os.environ['HOME']}/edirect:{os.environ['PATH']}\"\n"
      ],
      "metadata": {
        "id": "r287JwROdBEa"
      },
      "execution_count": 3,
      "outputs": []
    },
    {
      "cell_type": "markdown",
      "source": [
        "# Pairwise alignment\n"
      ],
      "metadata": {
        "id": "VyA-dlFjnBOl"
      }
    },
    {
      "cell_type": "markdown",
      "source": [
        "## Perform protein pairwise alignment\n"
      ],
      "metadata": {
        "id": "76E5eMfiq2jc"
      }
    },
    {
      "cell_type": "code",
      "source": [
        "!efetch -db protein -format fasta -id NP_000509"
      ],
      "metadata": {
        "colab": {
          "base_uri": "https://localhost:8080/"
        },
        "id": "DOuQugANplzs",
        "outputId": "09d8bf37-8956-4ca9-9a69-d2dc7723f0fa"
      },
      "execution_count": 50,
      "outputs": [
        {
          "output_type": "stream",
          "name": "stdout",
          "text": [
            ">NP_000509.1 hemoglobin subunit beta [Homo sapiens]\n",
            "MVHLTPEEKSAVTALWGKVNVDEVGGEALGRLLVVYPWTQRFFESFGDLSTPDAVMGNPKVKAHGKKVLG\n",
            "AFSDGLAHLDNLKGTFATLSELHCDKLHVDPENFRLLGNVLVCVLAHHFGKEFTPPVQAAYQKVVAGVAN\n",
            "ALAHKYH\n"
          ]
        }
      ]
    },
    {
      "cell_type": "code",
      "source": [
        "##This script fetches sequences from the NCBI database (here protein db) using their IDs\n",
        "## and saves them as FASTA files.\n",
        "!efetch -db protein -format fasta -id NP_000509 > NP_000509.fasta\n",
        "!efetch -db protein -format fasta -id NP_001188320 > NP_001188320.fasta\n"
      ],
      "metadata": {
        "id": "2v2NPs61fWBr"
      },
      "execution_count": 47,
      "outputs": []
    },
    {
      "cell_type": "code",
      "source": [
        "### This will provide information about the usage, options, and parameters available for the blastp command.\n",
        "!/content/ncbi-blast-2.15.0+/bin/blastp -h"
      ],
      "metadata": {
        "colab": {
          "base_uri": "https://localhost:8080/"
        },
        "id": "CcxAKJnEoBhn",
        "outputId": "3e1a452d-8f92-4deb-a3c8-2b7a14146257"
      },
      "execution_count": 49,
      "outputs": [
        {
          "output_type": "stream",
          "name": "stdout",
          "text": [
            "USAGE\n",
            "  blastp [-h] [-help] [-import_search_strategy filename]\n",
            "    [-export_search_strategy filename] [-task task_name] [-db database_name]\n",
            "    [-dbsize num_letters] [-gilist filename] [-seqidlist filename]\n",
            "    [-negative_gilist filename] [-negative_seqidlist filename]\n",
            "    [-taxids taxids] [-negative_taxids taxids] [-taxidlist filename]\n",
            "    [-negative_taxidlist filename] [-no_taxid_expansion] [-ipglist filename]\n",
            "    [-negative_ipglist filename] [-entrez_query entrez_query]\n",
            "    [-db_soft_mask filtering_algorithm] [-db_hard_mask filtering_algorithm]\n",
            "    [-subject subject_input_file] [-subject_loc range] [-query input_file]\n",
            "    [-out output_file] [-evalue evalue] [-word_size int_value]\n",
            "    [-gapopen open_penalty] [-gapextend extend_penalty]\n",
            "    [-qcov_hsp_perc float_value] [-max_hsps int_value]\n",
            "    [-xdrop_ungap float_value] [-xdrop_gap float_value]\n",
            "    [-xdrop_gap_final float_value] [-searchsp int_value] [-seg SEG_options]\n",
            "    [-soft_masking soft_masking] [-matrix matrix_name]\n",
            "    [-threshold float_value] [-culling_limit int_value]\n",
            "    [-best_hit_overhang float_value] [-best_hit_score_edge float_value]\n",
            "    [-subject_besthit] [-window_size int_value] [-lcase_masking]\n",
            "    [-query_loc range] [-parse_deflines] [-outfmt format] [-show_gis]\n",
            "    [-num_descriptions int_value] [-num_alignments int_value]\n",
            "    [-line_length line_length] [-html] [-sorthits sort_hits]\n",
            "    [-sorthsps sort_hsps] [-max_target_seqs num_sequences]\n",
            "    [-num_threads int_value] [-mt_mode int_value] [-ungapped] [-remote]\n",
            "    [-comp_based_stats compo] [-use_sw_tback] [-version]\n",
            "\n",
            "DESCRIPTION\n",
            "   Protein-Protein BLAST 2.15.0+\n",
            "\n",
            "Use '-help' to print detailed descriptions of command line arguments\n"
          ]
        }
      ]
    },
    {
      "cell_type": "code",
      "source": [
        "# This will execute the blastp command with the specified subject\n",
        "# and query sequences in the Colab environment.\n",
        "# Make sure to replace \"NP_000509.fasta\" and \"NP_001188320.fasta\"\n",
        "# with the actual filenames or paths of your subject and query sequence files.\n",
        "\n",
        "\n",
        "\n",
        "!/content/ncbi-blast-2.15.0+/bin/blastp -subject NP_000509.fasta -query NP_001188320.fasta"
      ],
      "metadata": {
        "colab": {
          "base_uri": "https://localhost:8080/"
        },
        "id": "gb4qM3LegkSN",
        "outputId": "a53d225d-aa33-4a6e-e462-0f0ff678131e"
      },
      "execution_count": 48,
      "outputs": [
        {
          "output_type": "stream",
          "name": "stdout",
          "text": [
            "BLASTP 2.15.0+\n",
            "\n",
            "\n",
            "Reference: Stephen F. Altschul, Thomas L. Madden, Alejandro A.\n",
            "Schaffer, Jinghui Zhang, Zheng Zhang, Webb Miller, and David J.\n",
            "Lipman (1997), \"Gapped BLAST and PSI-BLAST: a new generation of\n",
            "protein database search programs\", Nucleic Acids Res. 25:3389-3402.\n",
            "\n",
            "\n",
            "Reference for composition-based statistics: Alejandro A. Schaffer,\n",
            "L. Aravind, Thomas L. Madden, Sergei Shavirin, John L. Spouge, Yuri\n",
            "I. Wolf, Eugene V. Koonin, and Stephen F. Altschul (2001),\n",
            "\"Improving the accuracy of PSI-BLAST protein database searches with\n",
            "composition-based statistics and other refinements\", Nucleic Acids\n",
            "Res. 29:2994-3005.\n",
            "\n",
            "\n",
            "\n",
            "Database: User specified sequence set (Input: NP_000509.fasta).\n",
            "           1 sequences; 147 total letters\n",
            "\n",
            "\n",
            "\n",
            "Query= NP_001188320.1 hemoglobin, beta adult s chain [Mus musculus]\n",
            "\n",
            "Length=147\n",
            "                                                                      Score     E\n",
            "Sequences producing significant alignments:                          (Bits)  Value\n",
            "\n",
            "NP_000509.1 hemoglobin subunit beta [Homo sapiens]                    251     2e-92\n",
            "\n",
            "\n",
            "> NP_000509.1 hemoglobin subunit beta [Homo sapiens]\n",
            "Length=147\n",
            "\n",
            " Score = 251 bits (642),  Expect = 2e-92, Method: Compositional matrix adjust.\n",
            " Identities = 118/147 (80%), Positives = 132/147 (90%), Gaps = 0/147 (0%)\n",
            "\n",
            "Query  1    MVHLTDAEKAAVSGLWGKVNADEVGGEALGRLLVVYPWTQRYFDSFGDLSSASAIMGNAK  60\n",
            "            MVHLT  EK+AV+ LWGKVN DEVGGEALGRLLVVYPWTQR+F+SFGDLS+  A+MGN K\n",
            "Sbjct  1    MVHLTPEEKSAVTALWGKVNVDEVGGEALGRLLVVYPWTQRFFESFGDLSTPDAVMGNPK  60\n",
            "\n",
            "Query  61   VKAHGKKVITAFNDGLNHLDSLKGTFASLSELHCDKLHVDPENFRLLGNMIVIVLGHHLG  120\n",
            "            VKAHGKKV+ AF+DGL HLD+LKGTFA+LSELHCDKLHVDPENFRLLGN++V VL HH G\n",
            "Sbjct  61   VKAHGKKVLGAFSDGLAHLDNLKGTFATLSELHCDKLHVDPENFRLLGNVLVCVLAHHFG  120\n",
            "\n",
            "Query  121  KDFTPAAQAAFQKVVAGVAAALAHKYH  147\n",
            "            K+FTP  QAA+QKVVAGVA ALAHKYH\n",
            "Sbjct  121  KEFTPPVQAAYQKVVAGVANALAHKYH  147\n",
            "\n",
            "\n",
            "\n",
            "Lambda      K        H        a         alpha\n",
            "   0.320    0.135    0.404    0.792     4.96 \n",
            "\n",
            "Gapped\n",
            "Lambda      K        H        a         alpha    sigma\n",
            "   0.267   0.0410    0.140     1.90     42.6     43.6 \n",
            "\n",
            "Effective search space used: 17161\n",
            "\n",
            "\n",
            "  Database: User specified sequence set (Input: NP_000509.fasta).\n",
            "    Posted date:  Unknown\n",
            "  Number of letters in database: 147\n",
            "  Number of sequences in database:  1\n",
            "\n",
            "\n",
            "\n",
            "Matrix: BLOSUM62\n",
            "Gap Penalties: Existence: 11, Extension: 1\n",
            "Neighboring words threshold: 11\n",
            "Window for multiple hits: 40\n"
          ]
        }
      ]
    },
    {
      "cell_type": "markdown",
      "source": [
        "## Perform NA pairwise alignment\n"
      ],
      "metadata": {
        "id": "QZ_D78L_pyuN"
      }
    },
    {
      "cell_type": "code",
      "source": [
        "!efetch -db nuccore -format fasta -id NM_001201391.1"
      ],
      "metadata": {
        "colab": {
          "base_uri": "https://localhost:8080/"
        },
        "id": "2sR_nzx4qx7d",
        "outputId": "eb9bbf5e-1551-4133-da11-a237938f6b42"
      },
      "execution_count": 7,
      "outputs": [
        {
          "output_type": "stream",
          "name": "stdout",
          "text": [
            ">NM_001201391.1 Mus musculus hemoglobin, beta adult s chain (Hbb-bs), mRNA\n",
            "CACATTTGCTTCTGACATAGTTGTGTTGACTCACAACCCCAGAAACAGACATCATGGTGCACCTGACTGA\n",
            "TGCTGAGAAGGCTGCTGTCTCTGGCCTGTGGGGAAAGGTGAACGCCGATGAAGTTGGTGGTGAGGCCCTG\n",
            "GGCAGGCTGCTGGTTGTCTACCCTTGGACCCAGCGGTACTTTGATAGCTTTGGAGACCTATCCTCTGCCT\n",
            "CTGCTATCATGGGTAATGCCAAAGTGAAGGCCCATGGCAAGAAAGTGATAACTGCCTTTAACGATGGCCT\n",
            "GAATCACTTGGACAGCCTCAAGGGCACCTTTGCCAGCCTCAGTGAGCTCCACTGTGACAAGCTGCATGTG\n",
            "GATCCTGAGAACTTCAGGCTCCTGGGCAATATGATCGTGATTGTGCTGGGCCACCACCTGGGCAAGGATT\n",
            "TCACCCCCGCTGCACAGGCTGCCTTCCAGAAGGTGGTGGCTGGAGTGGCCGCTGCCCTGGCTCACAAGTA\n",
            "CCACTAAACCCCCTTTCCTGCTCTTGCCTGTGAACAATGGTTAATTGTTCCCAAGAGAGCATCTGTCAGT\n",
            "TGTTGGCAAAATGATAAAGACATTTGAAAATCTGTCTTCTGACAAATAAAAAGCATTTATTTCACTGCAA\n",
            "TGATGTTTT\n"
          ]
        }
      ]
    },
    {
      "cell_type": "code",
      "source": [
        "##This script fetches sequences from the NCBI database (here nuccore or nucleotide db) using their IDs\n",
        "## and saves them as FASTA files.\n",
        "!efetch -db nuccore -format fasta -id NM_000518.5 > NM_000518.fasta\n",
        "!efetch -db nuccore -format fasta -id NM_001201391.1 > NM_001201391.fasta\n"
      ],
      "metadata": {
        "id": "tAd4Ol5mp6RL"
      },
      "execution_count": 6,
      "outputs": []
    },
    {
      "cell_type": "code",
      "source": [
        "### This will provide information about the usage, options, and parameters available for the blastn command.\n",
        "!/content/ncbi-blast-2.15.0+/bin/blastn -h"
      ],
      "metadata": {
        "colab": {
          "base_uri": "https://localhost:8080/"
        },
        "outputId": "1bfcd6f9-dcb5-4002-bb28-6b31b412e9a7",
        "id": "yAjqaoerrnfY"
      },
      "execution_count": 9,
      "outputs": [
        {
          "output_type": "stream",
          "name": "stdout",
          "text": [
            "USAGE\n",
            "  blastn [-h] [-help] [-import_search_strategy filename]\n",
            "    [-export_search_strategy filename] [-task task_name] [-db database_name]\n",
            "    [-dbsize num_letters] [-gilist filename] [-seqidlist filename]\n",
            "    [-negative_gilist filename] [-negative_seqidlist filename]\n",
            "    [-taxids taxids] [-negative_taxids taxids] [-taxidlist filename]\n",
            "    [-negative_taxidlist filename] [-no_taxid_expansion]\n",
            "    [-entrez_query entrez_query] [-db_soft_mask filtering_algorithm]\n",
            "    [-db_hard_mask filtering_algorithm] [-subject subject_input_file]\n",
            "    [-subject_loc range] [-query input_file] [-out output_file]\n",
            "    [-evalue evalue] [-word_size int_value] [-gapopen open_penalty]\n",
            "    [-gapextend extend_penalty] [-perc_identity float_value]\n",
            "    [-qcov_hsp_perc float_value] [-max_hsps int_value]\n",
            "    [-xdrop_ungap float_value] [-xdrop_gap float_value]\n",
            "    [-xdrop_gap_final float_value] [-searchsp int_value] [-penalty penalty]\n",
            "    [-reward reward] [-no_greedy] [-min_raw_gapped_score int_value]\n",
            "    [-template_type type] [-template_length int_value] [-dust DUST_options]\n",
            "    [-filtering_db filtering_database]\n",
            "    [-window_masker_taxid window_masker_taxid]\n",
            "    [-window_masker_db window_masker_db] [-soft_masking soft_masking]\n",
            "    [-ungapped] [-culling_limit int_value] [-best_hit_overhang float_value]\n",
            "    [-best_hit_score_edge float_value] [-subject_besthit]\n",
            "    [-window_size int_value] [-off_diagonal_range int_value]\n",
            "    [-use_index boolean] [-index_name string] [-lcase_masking]\n",
            "    [-query_loc range] [-strand strand] [-parse_deflines] [-outfmt format]\n",
            "    [-show_gis] [-num_descriptions int_value] [-num_alignments int_value]\n",
            "    [-line_length line_length] [-html] [-sorthits sort_hits]\n",
            "    [-sorthsps sort_hsps] [-max_target_seqs num_sequences]\n",
            "    [-num_threads int_value] [-mt_mode int_value] [-remote] [-version]\n",
            "\n",
            "DESCRIPTION\n",
            "   Nucleotide-Nucleotide BLAST 2.15.0+\n",
            "\n",
            "Use '-help' to print detailed descriptions of command line arguments\n"
          ]
        }
      ]
    },
    {
      "cell_type": "code",
      "source": [
        "# This will execute the blastn command with the specified subject\n",
        "# and query sequences in the Colab environment.\n",
        "\n",
        "!/content/ncbi-blast-2.15.0+/bin/blastn -subject NM_000518.fasta -query NM_001201391.fasta"
      ],
      "metadata": {
        "colab": {
          "base_uri": "https://localhost:8080/"
        },
        "id": "fvZqKghZsBCw",
        "outputId": "6dabc243-1cd3-45fa-c28b-b5c4e543dc79"
      },
      "execution_count": 10,
      "outputs": [
        {
          "output_type": "stream",
          "name": "stdout",
          "text": [
            "BLASTN 2.15.0+\n",
            "\n",
            "\n",
            "Reference: Zheng Zhang, Scott Schwartz, Lukas Wagner, and Webb\n",
            "Miller (2000), \"A greedy algorithm for aligning DNA sequences\", J\n",
            "Comput Biol 2000; 7(1-2):203-14.\n",
            "\n",
            "\n",
            "\n",
            "Database: User specified sequence set (Input: NM_000518.fasta).\n",
            "           1 sequences; 628 total letters\n",
            "\n",
            "\n",
            "\n",
            "Query= NM_001201391.1 Mus musculus hemoglobin, beta adult s chain (Hbb-bs),\n",
            "mRNA\n",
            "\n",
            "Length=639\n",
            "                                                                      Score     E\n",
            "Sequences producing significant alignments:                          (Bits)  Value\n",
            "\n",
            "NM_000518.5 Homo sapiens hemoglobin subunit beta (HBB), mRNA          444     7e-129\n",
            "\n",
            "\n",
            "> NM_000518.5 Homo sapiens hemoglobin subunit beta (HBB), mRNA\n",
            "Length=628\n",
            "\n",
            " Score = 444 bits (240),  Expect = 7e-129\n",
            " Identities = 422/512 (82%), Gaps = 4/512 (1%)\n",
            " Strand=Plus/Plus\n",
            "\n",
            "Query  2    ACATTTGCTTCTGACATAGTTGTGTTGACTCACAACCCCAGAAACAGACATCATGGTGCA  61\n",
            "            |||||||||||||||| |  |||||| |||  ||||| |  ||||||||| |||||||||\n",
            "Sbjct  1    ACATTTGCTTCTGACACAACTGTGTTCACTAGCAACCTC--AAACAGACACCATGGTGCA  58\n",
            "\n",
            "Query  62   CCTGACTGATGCTGAGAAGGCTGCTGTCTCTGGCCTGTGGGGAAAGGTGAACGCCGATGA  121\n",
            "             ||||||  ||  |||||| |||| ||  ||| ||||||||| ||||||||||  |||||\n",
            "Sbjct  59   TCTGACTCCTGAGGAGAAGTCTGCCGTTACTGCCCTGTGGGGCAAGGTGAACGTGGATGA  118\n",
            "\n",
            "Query  122  AGTTGGTGGTGAGGCCCTGGGCAGGCTGCTGGTTGTCTACCCTTGGACCCAGCGGTACTT  181\n",
            "            ||||||||||||||||||||||||||||||||| |||||||||||||||||| ||| |||\n",
            "Sbjct  119  AGTTGGTGGTGAGGCCCTGGGCAGGCTGCTGGTGGTCTACCCTTGGACCCAGAGGTTCTT  178\n",
            "\n",
            "Query  182  TGATAGCTTTGGAGACCTATCCTCTGCCTC-TGCTATCATGGGTAATGCCAAAGTGAAGG  240\n",
            "            |||   |||||| || || ||| || |||  |||| | ||||| ||  | || |||||||\n",
            "Sbjct  179  TGAGTCCTTTGGGGATCTGTCCACT-CCTGATGCTGTTATGGGCAACCCTAAGGTGAAGG  237\n",
            "\n",
            "Query  241  CCCATGGCAAGAAAGTGATAACTGCCTTTAACGATGGCCTGAATCACTTGGACAGCCTCA  300\n",
            "            | ||||||||||||||| |   ||||||||  |||||||||  |||| |||||| |||||\n",
            "Sbjct  238  CTCATGGCAAGAAAGTGCTCGGTGCCTTTAGTGATGGCCTGGCTCACCTGGACAACCTCA  297\n",
            "\n",
            "Query  301  AGGGCACCTTTGCCAGCCTCAGTGAGCTCCACTGTGACAAGCTGCATGTGGATCCTGAGA  360\n",
            "            |||||||||||||||  || |||||||| ||||||||||||||||| |||||||||||||\n",
            "Sbjct  298  AGGGCACCTTTGCCACACTGAGTGAGCTGCACTGTGACAAGCTGCACGTGGATCCTGAGA  357\n",
            "\n",
            "Query  361  ACTTCAGGCTCCTGGGCAATATGATCGTGATTGTGCTGGGCCACCACCTGGGCAAGGATT  420\n",
            "            |||||||||||||||||||  || | ||   |||||||| ||| ||| | ||||| || |\n",
            "Sbjct  358  ACTTCAGGCTCCTGGGCAACGTGCTGGTCTGTGTGCTGGCCCATCACTTTGGCAAAGAAT  417\n",
            "\n",
            "Query  421  TCACCCCCGCTGCACAGGCTGCCTTCCAGAAGGTGGTGGCTGGAGTGGCCGCTGCCCTGG  480\n",
            "            |||||||  | |  ||||||||||  ||||| ||||||||||| |||||   ||||||||\n",
            "Sbjct  418  TCACCCCACCAGTGCAGGCTGCCTATCAGAAAGTGGTGGCTGGTGTGGCTAATGCCCTGG  477\n",
            "\n",
            "Query  481  CTCACAAGTACCACTAAACCCCCTTTCCTGCT  512\n",
            "            | |||||||| |||||| | | ||||| ||||\n",
            "Sbjct  478  CCCACAAGTATCACTAAGCTCGCTTTCTTGCT  509\n",
            "\n",
            "\n",
            "\n",
            "Lambda      K        H\n",
            "    1.33    0.621     1.12 \n",
            "\n",
            "Gapped\n",
            "Lambda      K        H\n",
            "    1.28    0.460    0.850 \n",
            "\n",
            "Effective search space used: 386232\n",
            "\n",
            "\n",
            "  Database: User specified sequence set (Input: NM_000518.fasta).\n",
            "    Posted date:  Unknown\n",
            "  Number of letters in database: 628\n",
            "  Number of sequences in database:  1\n",
            "\n",
            "\n",
            "\n",
            "Matrix: blastn matrix 1 -2\n",
            "Gap Penalties: Existence: 0, Extension: 2.5\n"
          ]
        }
      ]
    }
  ]
}